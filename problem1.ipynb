{
 "cells": [
  {
   "cell_type": "markdown",
   "metadata": {
    "deletable": false,
    "editable": false,
    "nbgrader": {
     "cell_type": "markdown",
     "checksum": "d76d15d4d63ec4296a694b256a08e200",
     "grade": false,
     "grade_id": "jupyter",
     "locked": true,
     "schema_version": 3,
     "solution": false
    }
   },
   "source": [
    "# Python for Data Science Bootcamp\n",
    "## Mini Project 1\n",
    "\n",
    "NOTE: This mini project has 4 problems.  Please write your code in the designated portion of the autograded answer cell.\n",
    "\n",
    "For this problem set, we'll be using the Jupyter notebook and nbgrader:\n",
    "\n",
    "![](jupyter.png)\n",
    "\n",
    "©2020 Luis Morales. All rights reserved. \n",
    "\n",
    "## Problem 1 (1 point)\n",
    "\n",
    "Given a list of integers, return indices of the two numbers such that they add up to a specific target. The indices should be in an increasing order. You may assume that each input would have exactly one solution, and you may not use the same element twice."
   ]
  },
  {
   "cell_type": "code",
   "execution_count": null,
   "metadata": {
    "deletable": false,
    "nbgrader": {
     "cell_type": "code",
     "checksum": "22047526e964f974d09c91bcc8577daa",
     "grade": false,
     "grade_id": "twosum",
     "locked": false,
     "schema_version": 3,
     "solution": true,
     "task": false
    }
   },
   "outputs": [],
   "source": [
    "def TwoSum(nums, target):\n",
    "    \"\"\"\n",
    "    :type nums: List[int]\n",
    "    :type target: int\n",
    "    :rtype: List[int]\n",
    "    \"\"\"\n",
    "    # YOUR CODE HERE\n",
    "    raise NotImplementedError()"
   ]
  },
  {
   "cell_type": "code",
   "execution_count": null,
   "metadata": {
    "deletable": false,
    "editable": false,
    "nbgrader": {
     "cell_type": "code",
     "checksum": "2524c2545e6b506449b10d66b091dcb3",
     "grade": true,
     "grade_id": "twosumtest",
     "locked": true,
     "points": 1,
     "schema_version": 3,
     "solution": false,
     "task": false
    }
   },
   "outputs": [],
   "source": [
    "'''this TwoSum function should pass the following tests'''\n",
    "assert (TwoSum([2, 7, 11, 15],9)==[0,1])\n",
    "assert (TwoSum([3,2,4],6)==[1,2])\n",
    "assert (TwoSum([0,4,3,0],0)==[0,3])\n",
    "assert (TwoSum([-1,-2,-3,-4,-5],-8)==[2,4])"
   ]
  },
  {
   "cell_type": "markdown",
   "metadata": {
    "deletable": false,
    "editable": false,
    "nbgrader": {
     "cell_type": "markdown",
     "checksum": "bd4cb02c3d6d2c86b5d96de849d7463d",
     "grade": false,
     "grade_id": "cell-7b7b8b2b7e456082",
     "locked": true,
     "schema_version": 3,
     "solution": false,
     "task": false
    }
   },
   "source": [
    "## Problem 2 (1 point)\n",
    "\n",
    "Given a 32-bit signed integer, reverse digits of an integer. If the return number is outside this range [−2^31,2^31−1], then return 0.\n",
    "\n",
    "example: input 12345 output 54321"
   ]
  },
  {
   "cell_type": "code",
   "execution_count": null,
   "metadata": {
    "deletable": false,
    "nbgrader": {
     "cell_type": "code",
     "checksum": "43fe17f9a240d5432507cf9cd5a7603e",
     "grade": false,
     "grade_id": "reverse",
     "locked": false,
     "schema_version": 3,
     "solution": true
    }
   },
   "outputs": [],
   "source": [
    "def myreverse(x):\n",
    "    ''':type x: int\n",
    "       :rtype: int\n",
    "    '''\n",
    "    # YOUR CODE HERE\n",
    "    raise NotImplementedError()"
   ]
  },
  {
   "cell_type": "code",
   "execution_count": null,
   "metadata": {
    "deletable": false,
    "editable": false,
    "nbgrader": {
     "cell_type": "code",
     "checksum": "3df143d6bdb40933f442197a49966c3a",
     "grade": true,
     "grade_id": "reversetest",
     "locked": false,
     "points": 1,
     "schema_version": 3,
     "solution": false
    }
   },
   "outputs": [],
   "source": [
    "assert(myreverse(120)==21)\n",
    "assert(myreverse(123)==321)\n",
    "assert(myreverse(-123)==-321)\n",
    "assert(myreverse(1534236469)==0)"
   ]
  },
  {
   "cell_type": "markdown",
   "metadata": {
    "deletable": false,
    "editable": false,
    "nbgrader": {
     "cell_type": "markdown",
     "checksum": "ef000718221cde156c340a3d33df27e8",
     "grade": false,
     "grade_id": "cell-4c6accaf71092949",
     "locked": true,
     "schema_version": 3,
     "solution": false
    }
   },
   "source": [
    "## Problem 3 (1 point)\n",
    "\n",
    "Write a function to find the longest common prefix string amongst a list of strings. If there is no common prefix, return an empty string ''.\n",
    "\n",
    "example: input ['what','where','who'] output 'wh'"
   ]
  },
  {
   "cell_type": "code",
   "execution_count": null,
   "metadata": {
    "deletable": false,
    "nbgrader": {
     "cell_type": "code",
     "checksum": "59e4fbb80dd6cc50674b35f776cb7f92",
     "grade": false,
     "grade_id": "longestpre",
     "locked": false,
     "schema_version": 3,
     "solution": true
    }
   },
   "outputs": [],
   "source": [
    "def longestCommonPrefix(strs):\n",
    "    \"\"\"\n",
    "    :type strs: List[str]\n",
    "    :rtype: str\n",
    "    \"\"\"\n",
    "    # YOUR CODE HERE\n",
    "    raise NotImplementedError()"
   ]
  },
  {
   "cell_type": "code",
   "execution_count": null,
   "metadata": {
    "deletable": false,
    "editable": false,
    "nbgrader": {
     "cell_type": "code",
     "checksum": "35d33bae7e31c0a09371f015d9fc0b19",
     "grade": true,
     "grade_id": "longestpretest",
     "locked": false,
     "points": 1,
     "schema_version": 3,
     "solution": false
    }
   },
   "outputs": [],
   "source": [
    "assert longestCommonPrefix([\"flower\",\"flow\",\"flight\"])=='fl'\n",
    "assert longestCommonPrefix(['what','where','who'] )=='wh'"
   ]
  },
  {
   "cell_type": "markdown",
   "metadata": {
    "deletable": false,
    "editable": false,
    "nbgrader": {
     "cell_type": "markdown",
     "checksum": "573be8a156800ee5c68fec429b840c2c",
     "grade": false,
     "grade_id": "cell-b7d6b8583ec5a971",
     "locked": true,
     "schema_version": 3,
     "solution": false,
     "task": false
    }
   },
   "source": [
    "## Problem 4 (1 point)\n",
    "\n",
    "There are 13 lamps on the table. Starting from 1, we turn off the lamp at every 5th, when the count reach 13, start from 1 again. Write a function that return the order of lamps being turned off. In this case, the return list would be [5, 10, 2, 8, 1, 9, 4, 13, 12, 3, 7, 11, 6]. Note that the turn-off lamps would not count again."
   ]
  },
  {
   "cell_type": "code",
   "execution_count": null,
   "metadata": {
    "deletable": false,
    "nbgrader": {
     "cell_type": "code",
     "checksum": "bc1f6b851894a3cc7472c4f84d54e737",
     "grade": false,
     "grade_id": "lamp",
     "locked": false,
     "schema_version": 3,
     "solution": true,
     "task": false
    }
   },
   "outputs": [],
   "source": [
    "def turn_off_order():\n",
    "    # YOUR CODE HERE\n",
    "    raise NotImplementedError()"
   ]
  },
  {
   "cell_type": "code",
   "execution_count": null,
   "metadata": {
    "deletable": false,
    "editable": false,
    "nbgrader": {
     "cell_type": "code",
     "checksum": "233661aca01809ca855f09781df1fda9",
     "grade": true,
     "grade_id": "lamptest",
     "locked": true,
     "points": 1,
     "schema_version": 3,
     "solution": false,
     "task": false
    }
   },
   "outputs": [],
   "source": [
    "assert turn_off_order() == [5, 10, 2, 8, 1, 9, 4, 13, 12, 3, 7, 11, 6]"
   ]
  }
 ],
 "metadata": {
  "kernelspec": {
   "display_name": "Python 3",
   "language": "python",
   "name": "python3"
  },
  "language_info": {
   "codemirror_mode": {
    "name": "ipython",
    "version": 3
   },
   "file_extension": ".py",
   "mimetype": "text/x-python",
   "name": "python",
   "nbconvert_exporter": "python",
   "pygments_lexer": "ipython3",
   "version": "3.7.4"
  }
 },
 "nbformat": 4,
 "nbformat_minor": 1
}
